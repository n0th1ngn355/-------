{
 "cells": [
  {
   "cell_type": "code",
   "execution_count": 1,
   "metadata": {},
   "outputs": [
    {
     "name": "stderr",
     "output_type": "stream",
     "text": [
      "d:\\Apps\\Python\\Lib\\site-packages\\tqdm\\auto.py:21: TqdmWarning: IProgress not found. Please update jupyter and ipywidgets. See https://ipywidgets.readthedocs.io/en/stable/user_install.html\n",
      "  from .autonotebook import tqdm as notebook_tqdm\n",
      "Some weights of FSMTForConditionalGeneration were not initialized from the model checkpoint at facebook/wmt19-en-ru and are newly initialized: ['model.decoder.embed_positions.weight', 'model.encoder.embed_positions.weight']\n",
      "You should probably TRAIN this model on a down-stream task to be able to use it for predictions and inference.\n"
     ]
    }
   ],
   "source": [
    "from transformers import FSMTForConditionalGeneration, FSMTTokenizer\n",
    "mname = \"facebook/wmt19-en-ru\"\n",
    "tokenizer = FSMTTokenizer.from_pretrained(mname)\n",
    "model = FSMTForConditionalGeneration.from_pretrained(mname)\n"
   ]
  },
  {
   "cell_type": "code",
   "execution_count": 2,
   "metadata": {},
   "outputs": [],
   "source": [
    "\n",
    "# Пути к файлам с данными\n",
    "train_data_file = \"train_data.txt\"\n",
    "val_data_file = \"val_data.txt\"\n",
    "\n",
    "# Функция для чтения данных из файла\n",
    "def read_data(file_path):\n",
    "    with open(file_path, \"r\", encoding=\"utf-8\") as f:\n",
    "        data = f.readlines()\n",
    "    return data\n",
    "\n",
    "# Чтение данных для обучения и валидации\n",
    "train_data = read_data(train_data_file)\n",
    "val_data = read_data(val_data_file)\n",
    "\n",
    "# Преобразование данных в формат, понимаемый Seq2SeqDataset\n",
    "def process_data(data):\n",
    "    processed_data = []\n",
    "    for line in data:\n",
    "        source_text, target_text = line.strip().split(\":\")\n",
    "        processed_data.append({\"source_text\": source_text.strip(), \"target_text\": target_text.strip()})\n",
    "    return processed_data\n",
    "\n",
    "train_processed_data = process_data(train_data)\n",
    "val_processed_data = process_data(val_data)\n",
    "\n",
    "from torch.utils.data import Dataset\n",
    "\n",
    "class CustomDataset(Dataset):\n",
    "    def __init__(self, data, tokenizer, max_source_length, max_target_length):\n",
    "        self.data = data\n",
    "        self.tokenizer = tokenizer\n",
    "        self.max_source_length = max_source_length\n",
    "        self.max_target_length = max_target_length\n",
    "\n",
    "    def __len__(self):\n",
    "        return len(self.data)\n",
    "\n",
    "    def __getitem__(self, index):\n",
    "        source_text = self.data[index][\"source_text\"]\n",
    "        target_text = self.data[index][\"target_text\"]\n",
    "\n",
    "        # Токенизация и добавление специальных токенов\n",
    "        source_inputs = self.tokenizer.encode_plus(source_text, max_length=self.max_source_length, padding=\"max_length\", truncation=True, return_tensors=\"pt\")\n",
    "        target_inputs = self.tokenizer.encode_plus(target_text, max_length=self.max_target_length, padding=\"max_length\", truncation=True, return_tensors=\"pt\")\n",
    "\n",
    "        source_ids = source_inputs[\"input_ids\"].squeeze()\n",
    "        source_mask = source_inputs[\"attention_mask\"].squeeze()\n",
    "        target_ids = target_inputs[\"input_ids\"].squeeze()\n",
    "\n",
    "        return {\n",
    "            \"input_ids\": source_ids,\n",
    "            \"attention_mask\": source_mask,\n",
    "            \"labels\": target_ids,\n",
    "        }\n",
    "\n",
    "# Создание датасетов\n",
    "train_dataset = CustomDataset(train_processed_data, tokenizer, max_source_length=128, max_target_length=128)\n",
    "val_dataset = CustomDataset(val_processed_data, tokenizer, max_source_length=128, max_target_length=128)\n",
    "\n",
    "\n"
   ]
  },
  {
   "cell_type": "code",
   "execution_count": 8,
   "metadata": {},
   "outputs": [
    {
     "name": "stderr",
     "output_type": "stream",
     "text": [
      "d:\\Apps\\Python\\Lib\\site-packages\\accelerate\\accelerator.py:432: FutureWarning: Passing the following arguments to `Accelerator` is deprecated and will be removed in version 1.0 of Accelerate: dict_keys(['dispatch_batches', 'split_batches', 'even_batches', 'use_seedable_sampler']). Please pass an `accelerate.DataLoaderConfiguration` instead: \n",
      "dataloader_config = DataLoaderConfiguration(dispatch_batches=None, split_batches=False, even_batches=True, use_seedable_sampler=True)\n",
      "  warnings.warn(\n",
      "  8%|▊         | 8/100 [01:08<12:45,  8.32s/it]"
     ]
    },
    {
     "ename": "",
     "evalue": "",
     "output_type": "error",
     "traceback": [
      "\u001b[1;31mПри выполнении кода в текущей ячейке или предыдущей ячейке ядро аварийно завершило работу. \n",
      "\u001b[1;31mПроверьте код в ячейках, чтобы определить возможную причину сбоя. \n",
      "\u001b[1;31mЩелкните <a href='https://aka.ms/vscodeJupyterKernelCrash'>здесь</a>, чтобы получить дополнительные сведения. \n",
      "\u001b[1;31mПодробнее см. в <a href='command:jupyter.viewOutput'>журнале Jupyter</a>."
     ]
    }
   ],
   "source": [
    "from transformers import Seq2SeqTrainer, Seq2SeqTrainingArguments\n",
    "\n",
    "import torch\n",
    "\n",
    "# Установка устройства на GPU, если доступно\n",
    "device = torch.device(\"cuda\" if torch.cuda.is_available() else \"cpu\")\n",
    "\n",
    "# Перемещение модели и датасетов на GPU\n",
    "model.to(device)\n",
    "\n",
    "training_args = Seq2SeqTrainingArguments(\n",
    "    output_dir='./results',\n",
    "    per_device_train_batch_size=4,\n",
    "    per_device_eval_batch_size=4,\n",
    "    predict_with_generate=True,\n",
    "    logging_dir='./logs',\n",
    "    logging_steps=10,\n",
    "    evaluation_strategy=\"steps\",\n",
    "    save_steps=10,\n",
    "    num_train_epochs=10,\n",
    "    overwrite_output_dir=True,\n",
    "    # Добавьте любые другие аргументы, необходимые для fine-tuning\n",
    ")\n",
    "\n",
    "trainer = Seq2SeqTrainer(\n",
    "    model=model,\n",
    "    args=training_args,\n",
    "    train_dataset=train_dataset,  # ваш тренировочный датасет\n",
    "    eval_dataset=val_dataset,     # ваш валидационный датасет\n",
    "    tokenizer=tokenizer\n",
    ")\n",
    "\n",
    "trainer.train()"
   ]
  },
  {
   "cell_type": "code",
   "execution_count": 7,
   "metadata": {},
   "outputs": [
    {
     "name": "stdout",
     "output_type": "stream",
     "text": [
      "тивы & & & & & & & & & & & & & & & & & & & & & & & & & & & & & & & & & & & & & & & & & & & & & & & & & & & & & & & & & & & & & & & & & & & & & & & & & & & & & & & & & & & & & & & & & & & & & & & & & & & & & & & & & & & & & & & & & & & & & & & & & & & & & & & & & & & & & & & & & & & & & & & & & & & & & & & & & & & & & & & & & & & & & & & & & & & & & & & & & & & & & & & & & & & & & & & & & & & & &\n"
     ]
    }
   ],
   "source": [
    "input = \"Салам\"\n",
    "input_ids = tokenizer.encode(input, return_tensors=\"pt\")\n",
    "outputs = model.generate(input_ids)\n",
    "decoded = tokenizer.decode(outputs[0], skip_special_tokens=True)\n",
    "print(decoded) # Машинное обучение - это здорово, не так ли"
   ]
  }
 ],
 "metadata": {
  "kernelspec": {
   "display_name": "Python 3",
   "language": "python",
   "name": "python3"
  },
  "language_info": {
   "codemirror_mode": {
    "name": "ipython",
    "version": 3
   },
   "file_extension": ".py",
   "mimetype": "text/x-python",
   "name": "python",
   "nbconvert_exporter": "python",
   "pygments_lexer": "ipython3",
   "version": "3.12.1"
  }
 },
 "nbformat": 4,
 "nbformat_minor": 2
}
