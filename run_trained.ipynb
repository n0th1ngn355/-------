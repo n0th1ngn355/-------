{
 "cells": [
  {
   "cell_type": "code",
   "execution_count": 1,
   "metadata": {},
   "outputs": [
    {
     "name": "stderr",
     "output_type": "stream",
     "text": [
      "d:\\Apps\\Python\\Lib\\site-packages\\tqdm\\auto.py:21: TqdmWarning: IProgress not found. Please update jupyter and ipywidgets. See https://ipywidgets.readthedocs.io/en/stable/user_install.html\n",
      "  from .autonotebook import tqdm as notebook_tqdm\n"
     ]
    }
   ],
   "source": [
    "from transformers import AutoTokenizer, AutoModelForSeq2SeqLM\n",
    "\n",
    "# Путь к сохраненной модели\n",
    "saved_model_dir = \"./trained_model\"\n",
    "\n",
    "# Загрузка модели и токенизатора\n",
    "tokenizer = AutoTokenizer.from_pretrained(saved_model_dir)\n",
    "model = AutoModelForSeq2SeqLM.from_pretrained(saved_model_dir)\n"
   ]
  },
  {
   "cell_type": "code",
   "execution_count": 2,
   "metadata": {},
   "outputs": [],
   "source": [
    "def interact_with_model(model, tokenizer, input_text):\n",
    "    # Предобработка входных данных\n",
    "    input_ids = tokenizer.encode(input_text, return_tensors=\"pt\")\n",
    "\n",
    "    # Передача данных в модель\n",
    "    output_ids = model.generate(input_ids, max_length=128, num_beams=4, early_stopping=True)\n",
    "\n",
    "    # Декодирование выходных данных\n",
    "    output_text = tokenizer.decode(output_ids[0], skip_special_tokens=True)\n",
    "\n",
    "    return output_text\n"
   ]
  },
  {
   "cell_type": "code",
   "execution_count": 3,
   "metadata": {},
   "outputs": [
    {
     "name": "stdout",
     "output_type": "stream",
     "text": [
      "Восстановленное сокращение: nsch\n"
     ]
    }
   ],
   "source": [
    "input_text = \"нзч\"\n",
    "output_text = interact_with_model(model, tokenizer, input_text)\n",
    "print(\"Восстановленное сокращение:\", output_text)"
   ]
  }
 ],
 "metadata": {
  "kernelspec": {
   "display_name": "Python 3",
   "language": "python",
   "name": "python3"
  },
  "language_info": {
   "codemirror_mode": {
    "name": "ipython",
    "version": 3
   },
   "file_extension": ".py",
   "mimetype": "text/x-python",
   "name": "python",
   "nbconvert_exporter": "python",
   "pygments_lexer": "ipython3",
   "version": "3.12.1"
  }
 },
 "nbformat": 4,
 "nbformat_minor": 2
}
